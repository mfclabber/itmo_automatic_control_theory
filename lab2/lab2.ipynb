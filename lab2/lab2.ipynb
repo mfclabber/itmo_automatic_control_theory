{
 "cells": [
  {
   "cell_type": "markdown",
   "metadata": {},
   "source": [
    "# Laboratory practice № 8 (Modals controlles and observers)\n",
    "\n",
    "Done by Dmitriy Novichkov\n",
    "\n",
    "Variat №19"
   ]
  },
  {
   "cell_type": "markdown",
   "metadata": {},
   "source": [
    "## Preparation"
   ]
  },
  {
   "cell_type": "code",
   "execution_count": 1,
   "metadata": {},
   "outputs": [],
   "source": [
    "import scipy\n",
    "import sympy\n",
    "import numpy as np\n",
    "\n",
    "import control as ctrl\n",
    "\n",
    "import matplotlib.pyplot as plt\n",
    "\n",
    "\n",
    "dt = 1e-3\n",
    "t = sympy.symbols(\"t\",real=True)"
   ]
  },
  {
   "cell_type": "markdown",
   "metadata": {},
   "source": [
    "## Task 1"
   ]
  },
  {
   "cell_type": "code",
   "execution_count": 2,
   "metadata": {},
   "outputs": [],
   "source": [
    "A = np.array([\n",
    "    [4, 6, 3],\n",
    "    [-4, -6, -6],\n",
    "    [4, 4, 4],\n",
    "])\n",
    "\n",
    "B = np.array([\n",
    "    [4],\n",
    "    [-1],\n",
    "    [1]\n",
    "])\n",
    "\n",
    "sigma_1 = [-1]*3\n",
    "sigma_2 = [-2]*3\n",
    "sigma_3 = [-1, -10, -100]\n",
    "sigma_4 = [-2, -20, -200]\n",
    "sigma_5 = [-1, -1+3j, -1-3j]\n",
    "sigma_6 = [-2, -2+6j, -2-6j]\n"
   ]
  },
  {
   "cell_type": "code",
   "execution_count": 11,
   "metadata": {},
   "outputs": [
    {
     "name": "stdout",
     "output_type": "stream",
     "text": [
      "Eigenvalues of matrix A:\n",
      "λ_1 = 2.0000+2.8284j\n",
      "λ_2 = 2.0000-2.8284j\n",
      "λ_3 = -2.0000+0.0000j\n",
      "\n",
      "Matrix Hautus for λ_1 = 2.0000+2.8284j:\n",
      "\\begin{bmatrix}\n",
      "2.0000-2.8284j & 6.0000+0.0000j & 3.0000+0.0000j & 4.0000+0.0000j \\\\\n",
      "-4.0000+0.0000j & -8.0000-2.8284j & -6.0000+0.0000j & -1.0000+0.0000j \\\\\n",
      "4.0000+0.0000j & 4.0000+0.0000j & 2.0000-2.8284j & 1.0000+0.0000j \\\\\n",
      "\\end{bmatrix}\n",
      "Rank of Hautus matrix: 3\n",
      "System is controllable for λ_1 = 2.0000+2.8284j.\n",
      "\n",
      "Matrix Hautus for λ_2 = 2.0000-2.8284j:\n",
      "\\begin{bmatrix}\n",
      "2.0000+2.8284j & 6.0000+0.0000j & 3.0000+0.0000j & 4.0000+0.0000j \\\\\n",
      "-4.0000+0.0000j & -8.0000+2.8284j & -6.0000+0.0000j & -1.0000+0.0000j \\\\\n",
      "4.0000+0.0000j & 4.0000+0.0000j & 2.0000+2.8284j & 1.0000+0.0000j \\\\\n",
      "\\end{bmatrix}\n",
      "Rank of Hautus matrix: 3\n",
      "System is controllable for λ_2 = 2.0000-2.8284j.\n",
      "\n",
      "Matrix Hautus for λ_3 = -2.0000+0.0000j:\n",
      "\\begin{bmatrix}\n",
      "6.0000+0.0000j & 6.0000+0.0000j & 3.0000+0.0000j & 4.0000+0.0000j \\\\\n",
      "-4.0000+0.0000j & -4.0000+0.0000j & -6.0000+0.0000j & -1.0000+0.0000j \\\\\n",
      "4.0000+0.0000j & 4.0000+0.0000j & 6.0000+0.0000j & 1.0000+0.0000j \\\\\n",
      "\\end{bmatrix}\n",
      "Rank of Hautus matrix: 2\n",
      "System is not controllable for λ_3 = -2.0000+0.0000j.\n"
     ]
    }
   ],
   "source": [
    "eigenvalues, eigenvectors = scipy.linalg.eig(A)\n",
    "\n",
    "print(\"Eigenvalues of matrix A:\")\n",
    "for i, eigenvalue in enumerate(eigenvalues):\n",
    "    print(f\"λ_{i+1} = {eigenvalue:.4f}\")\n",
    "\n",
    "for i, eigenvalue in enumerate(eigenvalues):\n",
    "    H = np.hstack((A - eigenvalue * np.eye(3), B))\n",
    "    rank = np.linalg.matrix_rank(H)\n",
    "    \n",
    "    print(f\"\\nMatrix Hautus for λ_{i+1} = {eigenvalue:.4f}:\")\n",
    "    print(r\"\\begin{bmatrix}\")\n",
    "    for row in H:\n",
    "        print(\" & \".join([f\"{x:.4f}\" for x in row]) + r\" \\\\\")\n",
    "    print(r\"\\end{bmatrix}\")\n",
    "    \n",
    "    print(f\"Rank of Hautus matrix: {rank}\")\n",
    "    \n",
    "    if rank == 3:\n",
    "        print(f\"System is controllable for λ_{i+1} = {eigenvalue:.4f}.\")\n",
    "    else:\n",
    "        print(f\"System is not controllable for λ_{i+1} = {eigenvalue:.4f}.\")"
   ]
  },
  {
   "cell_type": "markdown",
   "metadata": {},
   "source": [
    "**-2 is not controllable, but stable**"
   ]
  },
  {
   "cell_type": "code",
   "execution_count": 13,
   "metadata": {},
   "outputs": [
    {
     "data": {
      "text/plain": [
       "[-2, -2, -2]"
      ]
     },
     "execution_count": 13,
     "metadata": {},
     "output_type": "execute_result"
    }
   ],
   "source": [
    "sigma_2"
   ]
  },
  {
   "cell_type": "code",
   "execution_count": null,
   "metadata": {},
   "outputs": [],
   "source": [
    "G_1 = np.array([\n",
    "    [-2, 1, 0],\n",
    "    [0, -2, 1],\n",
    "    [0, 0, -2]\n",
    "])\n",
    "Y_1 = np.array([1,1,1]).reshape((1,-1))"
   ]
  }
 ],
 "metadata": {
  "kernelspec": {
   "display_name": "ml_env",
   "language": "python",
   "name": "python3"
  },
  "language_info": {
   "codemirror_mode": {
    "name": "ipython",
    "version": 3
   },
   "file_extension": ".py",
   "mimetype": "text/x-python",
   "name": "python",
   "nbconvert_exporter": "python",
   "pygments_lexer": "ipython3",
   "version": "3.9.20"
  }
 },
 "nbformat": 4,
 "nbformat_minor": 2
}
